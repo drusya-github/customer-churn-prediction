{
 "cells": [
  {
   "cell_type": "markdown",
   "id": "501d3979",
   "metadata": {},
   "source": [
    "### Hyper Parameter Tuning - \n",
    "\n",
    "In this notebook, we will refine the parameters of the best model (XGboost) for a significant performance improvement. \n",
    "\n",
    "\n"
   ]
  },
  {
   "cell_type": "markdown",
   "id": "9ea7369b",
   "metadata": {},
   "source": [
    "### Importing Necessary Libraries\n",
    "\n"
   ]
  },
  {
   "cell_type": "code",
   "execution_count": 8,
   "id": "f984a382",
   "metadata": {},
   "outputs": [],
   "source": [
    "from sklearn.model_selection import GridSearchCV\n",
    "from xgboost import XGBClassifier\n",
    "import pandas as pd"
   ]
  },
  {
   "cell_type": "markdown",
   "id": "3e9f3464",
   "metadata": {},
   "source": [
    "### Load the Label Datasets\n"
   ]
  },
  {
   "cell_type": "code",
   "execution_count": 10,
   "id": "4489e84e",
   "metadata": {},
   "outputs": [],
   "source": [
    "# Load feature and label data\n",
    "X_train = pd.read_csv('../data/X_train.csv')\n",
    "y_train = pd.read_csv('../data/y_train.csv')\n",
    "\n",
    "# Flatten labels to 1D array\n",
    "y_train = y_train.values.ravel()"
   ]
  },
  {
   "cell_type": "markdown",
   "id": "744231f3",
   "metadata": {},
   "source": [
    "### Tuning using GridSearchCV\n",
    "\n",
    "Uses cross-validation to test all combinations of hyper parameters. "
   ]
  },
  {
   "cell_type": "code",
   "execution_count": 6,
   "id": "4711a10c",
   "metadata": {},
   "outputs": [],
   "source": [
    "# Define parameter grid for XGBoost\n",
    "xgb_param_grid = {\n",
    "    'n_estimators': [100, 200],\n",
    "    'max_depth': [3, 5, 10],\n",
    "    'learning_rate': [0.01, 0.1],\n",
    "    'subsample': [0.8, 1],\n",
    "    'colsample_bytree': [0.8, 1]\n",
    "}\n",
    "\n",
    "# Set up GridSearch\n",
    "xgb_grid = GridSearchCV(\n",
    "    estimator=XGBClassifier(use_label_encoder=False, eval_metric='logloss', random_state=42),\n",
    "    param_grid=xgb_param_grid,\n",
    "    scoring='roc_auc',\n",
    "    cv=3,\n",
    "    n_jobs=-1,\n",
    "    verbose=1\n",
    ")\n",
    "\n"
   ]
  },
  {
   "cell_type": "markdown",
   "id": "0b39f0d4",
   "metadata": {},
   "source": [
    "### Cleaning 'y_train' dataset\n",
    "\n",
    "The labels in y_train should be [0 1], but we can see values like -0.6 or 1.6. This means that 'y_train.csv' was incorrectly saved or modified. To fix this we manually correct the dataset and round off the values to 0 and or 1. "
   ]
  },
  {
   "cell_type": "code",
   "execution_count": 12,
   "id": "9eccbfbb",
   "metadata": {},
   "outputs": [
    {
     "name": "stdout",
     "output_type": "stream",
     "text": [
      "Unique labels in y_train: [-0.60102348  1.66382851]\n",
      "First few y values: [-0.60102348 -0.60102348 -0.60102348 -0.60102348 -0.60102348 -0.60102348\n",
      " -0.60102348 -0.60102348 -0.60102348 -0.60102348]\n",
      "Data type: float64\n"
     ]
    }
   ],
   "source": [
    "import numpy as np\n",
    "\n",
    "print(\"Unique labels in y_train:\", np.unique(y_train))\n",
    "print(\"First few y values:\", y_train[:10])\n",
    "print(\"Data type:\", y_train.dtype)\n"
   ]
  },
  {
   "cell_type": "code",
   "execution_count": 14,
   "id": "7c7e1f5e",
   "metadata": {},
   "outputs": [
    {
     "name": "stdout",
     "output_type": "stream",
     "text": [
      "Unique values after conversion: [0 1]\n"
     ]
    }
   ],
   "source": [
    "# Convert to binary: everything > 0.5 is 1, else 0\n",
    "y_train = (y_train > 0.5).astype(int)\n",
    "print(\"Unique values after conversion:\", np.unique(y_train))\n"
   ]
  },
  {
   "cell_type": "code",
   "execution_count": 15,
   "id": "34a17375",
   "metadata": {},
   "outputs": [
    {
     "name": "stdout",
     "output_type": "stream",
     "text": [
      "Fitting 3 folds for each of 48 candidates, totalling 144 fits\n"
     ]
    },
    {
     "data": {
      "text/plain": [
       "GridSearchCV(cv=3,\n",
       "             estimator=XGBClassifier(base_score=None, booster=None,\n",
       "                                     callbacks=None, colsample_bylevel=None,\n",
       "                                     colsample_bynode=None,\n",
       "                                     colsample_bytree=None,\n",
       "                                     early_stopping_rounds=None,\n",
       "                                     enable_categorical=False,\n",
       "                                     eval_metric='logloss', gamma=None,\n",
       "                                     gpu_id=None, grow_policy=None,\n",
       "                                     importance_type=None,\n",
       "                                     interaction_constraints=None,\n",
       "                                     learning_rate=None, max_bin=None,\n",
       "                                     m...\n",
       "                                     max_leaves=None, min_child_weight=None,\n",
       "                                     missing=nan, monotone_constraints=None,\n",
       "                                     n_estimators=100, n_jobs=None,\n",
       "                                     num_parallel_tree=None, predictor=None,\n",
       "                                     random_state=42, reg_alpha=None,\n",
       "                                     reg_lambda=None, ...),\n",
       "             n_jobs=-1,\n",
       "             param_grid={'colsample_bytree': [0.8, 1],\n",
       "                         'learning_rate': [0.01, 0.1], 'max_depth': [3, 5, 10],\n",
       "                         'n_estimators': [100, 200], 'subsample': [0.8, 1]},\n",
       "             scoring='roc_auc', verbose=1)"
      ]
     },
     "execution_count": 15,
     "metadata": {},
     "output_type": "execute_result"
    }
   ],
   "source": [
    "xgb_grid.fit(X_train, y_train)\n"
   ]
  },
  {
   "cell_type": "markdown",
   "id": "127a389a",
   "metadata": {},
   "source": [
    "### Checking Best XGBoost Results\n"
   ]
  },
  {
   "cell_type": "code",
   "execution_count": 16,
   "id": "f1ea3572",
   "metadata": {},
   "outputs": [
    {
     "name": "stdout",
     "output_type": "stream",
     "text": [
      "Best XGBoost Parameters: {'colsample_bytree': 0.8, 'learning_rate': 0.1, 'max_depth': 3, 'n_estimators': 100, 'subsample': 0.8}\n",
      "Best ROC-AUC Score: 0.8493628955207955\n"
     ]
    }
   ],
   "source": [
    "print(\"Best XGBoost Parameters:\", xgb_grid.best_params_)\n",
    "print(\"Best ROC-AUC Score:\", xgb_grid.best_score_)\n"
   ]
  },
  {
   "cell_type": "markdown",
   "id": "faf93427",
   "metadata": {},
   "source": [
    "### Saving the Model\n",
    "\n",
    "We can now save this model in the models folder with refined results for further deployment. "
   ]
  },
  {
   "cell_type": "code",
   "execution_count": 18,
   "id": "8f25e626",
   "metadata": {},
   "outputs": [
    {
     "data": {
      "text/plain": [
       "['../models/best_model_xgb_tuned.pkl']"
      ]
     },
     "execution_count": 18,
     "metadata": {},
     "output_type": "execute_result"
    }
   ],
   "source": [
    "import joblib\n",
    "\n",
    "# Save the best model\n",
    "joblib.dump(xgb_grid.best_estimator_, '../models/best_model_xgb_tuned.pkl')\n"
   ]
  }
 ],
 "metadata": {
  "kernelspec": {
   "display_name": "venv",
   "language": "python",
   "name": "python3"
  },
  "language_info": {
   "codemirror_mode": {
    "name": "ipython",
    "version": 3
   },
   "file_extension": ".py",
   "mimetype": "text/x-python",
   "name": "python",
   "nbconvert_exporter": "python",
   "pygments_lexer": "ipython3",
   "version": "3.7.7"
  }
 },
 "nbformat": 4,
 "nbformat_minor": 5
}
